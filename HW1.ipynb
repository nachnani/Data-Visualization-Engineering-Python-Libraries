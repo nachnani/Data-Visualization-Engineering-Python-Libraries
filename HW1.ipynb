{
 "cells": [
  {
   "cell_type": "markdown",
   "metadata": {},
   "source": [
    "# Homework 1\n",
    "\n",
    "Please submit the solution to gradescope by 11:59 PM, Sept 12, Thursday."
   ]
  },
  {
   "cell_type": "markdown",
   "metadata": {},
   "source": [
    "**Name**: Robert Nachnani\n",
    "\n",
    "**PID**: 730573785\n"
   ]
  },
  {
   "cell_type": "code",
   "execution_count": 1,
   "metadata": {},
   "outputs": [],
   "source": [
    "import string"
   ]
  },
  {
   "cell_type": "markdown",
   "metadata": {},
   "source": [
    "## Problem 1 (25 points). \n",
    "\n",
    "**1.1** (20 points) Load a text file `file.txt`, clean its content by \n",
    "\n",
    "\n",
    " - removing all punctuation\n",
    " - removing extra white spaces\n",
    " - transforming the text to lowercase.\n",
    "\n",
    "Print the cleaned text. \n",
    "\n",
    "**1.2** (5 points) Count and print the number of vowels present in the cleaned text\n",
    "\n",
    "   Example input: `s = \"hello world\"`\n",
    "\n",
    "   Example output: `a = 0, e = 1, i = 0, o = 2, u = 0`"
   ]
  },
  {
   "cell_type": "code",
   "execution_count": 2,
   "metadata": {},
   "outputs": [
    {
     "name": "stdout",
     "output_type": "stream",
     "text": [
      "development of basic skill set for data analysis in python from obtaining data to data carpentry exploration modeling and communication lectures cover topics such as python programming data cleaning and visualization predictive modeling and elements of machine learning the course will develop fluency in the python language and the standard scientific libraries such as numpy pandas matplotlib and scikitlearn programming analyses in more advanced areas of data science plan to come to every class with your computer and ready to work with others using resources around you is a key component of successful data analysis this includes the internet and people students may not receive credit for both stor 320 and stor 520\n"
     ]
    }
   ],
   "source": [
    "#Question 1.1\n",
    "\n",
    "def clean_text(file_name):\n",
    "    with open(file_name, \"r\") as file:\n",
    "        text = file.read()\n",
    "\n",
    "    text = text.translate(str.maketrans(\"\", \"\", string.punctuation))\n",
    "    text = \" \".join(text.split())\n",
    "    text = text.lower()\n",
    "\n",
    "    return text\n",
    "\n",
    "file_path = \"file.txt\"\n",
    "cleaned_text = clean_text(file_path)\n",
    "print(cleaned_text)\n",
    "\n",
    "#Used a method I have learned in the past to complete this"
   ]
  },
  {
   "cell_type": "code",
   "execution_count": 3,
   "metadata": {},
   "outputs": [
    {
     "data": {
      "text/plain": [
       "{'a': 59, 'e': 58, 'i': 44, 'o': 46, 'u': 19}"
      ]
     },
     "execution_count": 3,
     "metadata": {},
     "output_type": "execute_result"
    }
   ],
   "source": [
    "#Questiion 1.2 / I used a method I previously learned if that's okay\n",
    "\n",
    "def find_vowels(text):\n",
    "    vowels = \"aeiou\"\n",
    "    vowel_count = {vowel: 0 for vowel in vowels}\n",
    "    \n",
    "    for char in text:\n",
    "        if char in vowel_count:\n",
    "            vowel_count[char] += 1\n",
    "    \n",
    "    return vowel_count\n",
    "\n",
    "find_vowels(cleaned_text)"
   ]
  },
  {
   "cell_type": "markdown",
   "metadata": {},
   "source": [
    "## Problem 2. (25 point). \n",
    "\n",
    "You are organizing information about several data science courses. Given the nested list of tuples `courses = [(101, 'Intro to Data Science'), (201, 'Machine Learning'), (103, 'Data Visualization'), (102, 'Python Programming')]`, perform the following tasks:\n",
    "\n",
    "**2.1** (5 points) Convert the list of tuples into a dictionary where the course number is the key and the course name is the value.\n",
    "\n",
    "**2.2** (5 points) Add a new course `(202, 'Deep Learning')` to the dictionary.\n",
    "\n",
    "**2.3** (5 points) Sort the dictionary based on the course number. \n",
    "\n",
    "**2.4** (5 points) Update the dictionary based on the following instruction: `Intro to Data Science` course is combined with `Python Programming` course, called `Intro to Data Science with Python` and the course number is still `101`. Delete the course `Python Programming`.\n",
    "\n",
    "**2.5** (5 points) Extract the course numbers and course names from the updated dictionary and store them in separate lists, e.g., `[101, 102, 103, 201, 202]`, `['Intro to Data Science with Python', 'Data Visualization',...]`\n",
    "\n",
    "\n"
   ]
  },
  {
   "cell_type": "code",
   "execution_count": 4,
   "metadata": {},
   "outputs": [
    {
     "data": {
      "text/plain": [
       "(dict, 'Intro to Data Science')"
      ]
     },
     "execution_count": 4,
     "metadata": {},
     "output_type": "execute_result"
    }
   ],
   "source": [
    "#Question 2.1\n",
    "courses = {101 : \"Intro to Data Science\", 201 : \"Machine Learning\", 103 : \"Data Visualization\", 102 : \"Python Programming\"}\n",
    "\n",
    "#Testing\n",
    "type(courses), courses[101]"
   ]
  },
  {
   "cell_type": "code",
   "execution_count": 5,
   "metadata": {},
   "outputs": [
    {
     "data": {
      "text/plain": [
       "{101: 'Intro to Data Science',\n",
       " 201: 'Machine Learning',\n",
       " 103: 'Data Visualization',\n",
       " 102: 'Python Programming',\n",
       " 202: 'Deep Learning'}"
      ]
     },
     "execution_count": 5,
     "metadata": {},
     "output_type": "execute_result"
    }
   ],
   "source": [
    "#Question 2.2\n",
    "courses[202] = \"Deep Learning\"\n",
    "\n",
    "courses"
   ]
  },
  {
   "cell_type": "code",
   "execution_count": 6,
   "metadata": {},
   "outputs": [
    {
     "data": {
      "text/plain": [
       "{101: 'Intro to Data Science',\n",
       " 102: 'Python Programming',\n",
       " 103: 'Data Visualization',\n",
       " 201: 'Machine Learning',\n",
       " 202: 'Deep Learning'}"
      ]
     },
     "execution_count": 6,
     "metadata": {},
     "output_type": "execute_result"
    }
   ],
   "source": [
    "#Question 2.3\n",
    "sorted_courses = dict(sorted(courses.items()))\n",
    "\n",
    "sorted_courses"
   ]
  },
  {
   "cell_type": "code",
   "execution_count": 7,
   "metadata": {},
   "outputs": [
    {
     "data": {
      "text/plain": [
       "{101: 'Intro to Data Science with Python',\n",
       " 201: 'Machine Learning',\n",
       " 103: 'Data Visualization',\n",
       " 202: 'Deep Learning'}"
      ]
     },
     "execution_count": 7,
     "metadata": {},
     "output_type": "execute_result"
    }
   ],
   "source": [
    "#Question 2.4\n",
    "courses[101] = \"Intro to Data Science with Python\"\n",
    "del courses[102]\n",
    "\n",
    "courses"
   ]
  },
  {
   "cell_type": "code",
   "execution_count": 8,
   "metadata": {},
   "outputs": [
    {
     "data": {
      "text/plain": [
       "([101, 201, 103, 202],\n",
       " ['Intro to Data Science with Python',\n",
       "  'Machine Learning',\n",
       "  'Data Visualization',\n",
       "  'Deep Learning'])"
      ]
     },
     "execution_count": 8,
     "metadata": {},
     "output_type": "execute_result"
    }
   ],
   "source": [
    "#Question 2.5\n",
    "course_nums = list(courses.keys())\n",
    "course_names = list(courses.values())\n",
    "\n",
    "course_nums , course_names"
   ]
  },
  {
   "cell_type": "markdown",
   "metadata": {},
   "source": [
    "## Problem 3 (25 points). \n",
    "\n",
    "You have two lists of student IDs enrolled in two different data science courses: `course1_ids = [101, 102, 102, 103, 104]` and `course2_ids = [103, 104, 104, 105, 106]`. Perform the following tasks:\n",
    "\n",
    "**3.1** (5 points) Convert the lists to sets to remove duplicate IDs.\n",
    "\n",
    "**3.2** (10 points) Find the union and intersection of the two sets to determine which students are in either or both courses.\n",
    "\n",
    "**3.3** (5 points) Convert the union and intersection sets to sorted lists.\n",
    "\n",
    "**3.4** (5 points) Create a dictionary where the keys are the student IDs from the union list and the values are True if the student is in both courses, otherwise False."
   ]
  },
  {
   "cell_type": "code",
   "execution_count": 9,
   "metadata": {},
   "outputs": [
    {
     "data": {
      "text/plain": [
       "({101, 102, 103, 104}, {103, 104, 105, 106})"
      ]
     },
     "execution_count": 9,
     "metadata": {},
     "output_type": "execute_result"
    }
   ],
   "source": [
    "#Question 3.1\n",
    "course1_ids = [101, 102, 102, 103, 104]\n",
    "course2_ids = [103, 104, 104, 105, 106]\n",
    "\n",
    "course1_set = set(course1_ids)\n",
    "course2_set = set(course2_ids)\n",
    "\n",
    "\n",
    "course1_set , course2_set"
   ]
  },
  {
   "cell_type": "code",
   "execution_count": 10,
   "metadata": {},
   "outputs": [
    {
     "data": {
      "text/plain": [
       "({101, 102, 103, 104, 105, 106}, {103, 104})"
      ]
     },
     "execution_count": 10,
     "metadata": {},
     "output_type": "execute_result"
    }
   ],
   "source": [
    "#Question 3.2 \n",
    "union_set = course1_set.union(course2_set)\n",
    "intersection_set = course1_set.intersection(course2_set)\n",
    "\n",
    "union_set , intersection_set"
   ]
  },
  {
   "cell_type": "code",
   "execution_count": 11,
   "metadata": {},
   "outputs": [
    {
     "data": {
      "text/plain": [
       "([101, 102, 103, 104, 105, 106], [103, 104])"
      ]
     },
     "execution_count": 11,
     "metadata": {},
     "output_type": "execute_result"
    }
   ],
   "source": [
    "#Question 3.3\n",
    "union_list = sorted(list(union_set))\n",
    "intersection_list = sorted(list(intersection_set))\n",
    "\n",
    "union_list , intersection_list"
   ]
  },
  {
   "cell_type": "code",
   "execution_count": 12,
   "metadata": {},
   "outputs": [
    {
     "data": {
      "text/plain": [
       "{101: False, 102: False, 103: True, 104: True, 105: False, 106: False}"
      ]
     },
     "execution_count": 12,
     "metadata": {},
     "output_type": "execute_result"
    }
   ],
   "source": [
    "#Question 3.4\n",
    "student_dict = {id: (id in intersection_list) for id in union_list}\n",
    "student_dict\n",
    "\n",
    "#Used method I have learned previously"
   ]
  },
  {
   "cell_type": "markdown",
   "metadata": {},
   "source": [
    "# Problem 4 (25 points)\n",
    "\n",
    "**4.1** (5 points) Install a package `sympy`. The `sympy` library is a Python library for symbolic mathematics. You do not have to install this library again if it is already installed. \n",
    "\n",
    "**4.2** (10 points) `isprime` function in `sympy` checks if a number is a prime number. For example, `isprime(7)` returns `True`. Based on this function, define a function to find the closest prime number of an integer. For example, if the input is 8, the function should return 7, as it is the closest prime number.\n",
    "\n",
    "\n",
    "\n",
    "**4.3** (5 points) Treat your PID number at UNC as an integer, and print its closest prime number.\n",
    "\n",
    "**4.4** (5 points) Given this sequence `[456,983,482,963,749,12,97]`, create a new list where each element is replaced by the closest prime number to that element, using the function defined in **4.2**.\n",
    "\n"
   ]
  },
  {
   "cell_type": "code",
   "execution_count": 13,
   "metadata": {},
   "outputs": [],
   "source": [
    "from sympy import isprime"
   ]
  },
  {
   "cell_type": "code",
   "execution_count": 14,
   "metadata": {},
   "outputs": [
    {
     "name": "stdout",
     "output_type": "stream",
     "text": [
      "Requirement already satisfied: sympy in c:\\users\\xanto\\anaconda3\\lib\\site-packages (1.12)\n",
      "Requirement already satisfied: mpmath>=0.19 in c:\\users\\xanto\\anaconda3\\lib\\site-packages (from sympy) (1.3.0)\n"
     ]
    }
   ],
   "source": [
    "#Question 4.1\n",
    "!pip install sympy"
   ]
  },
  {
   "cell_type": "code",
   "execution_count": 18,
   "metadata": {},
   "outputs": [
    {
     "data": {
      "text/plain": [
       "(13, 7, 234203580183431)"
      ]
     },
     "execution_count": 18,
     "metadata": {},
     "output_type": "execute_result"
    }
   ],
   "source": [
    "#Question 4.2\n",
    "def closest_prime(n):\n",
    "    lower = n - 1\n",
    "    higher = n + 1\n",
    "    \n",
    "    if isprime(n):\n",
    "        return n\n",
    "\n",
    "\n",
    "    while True:\n",
    "        if isprime(lower):\n",
    "            return lower\n",
    "        if isprime(higher):\n",
    "            return higher\n",
    "\n",
    "        lower -= 1\n",
    "        higher += 1\n",
    "\n",
    "closest_prime(14) , closest_prime(7) , closest_prime(234203580183427)"
   ]
  },
  {
   "cell_type": "code",
   "execution_count": 19,
   "metadata": {},
   "outputs": [
    {
     "data": {
      "text/plain": [
       "730573801"
      ]
     },
     "execution_count": 19,
     "metadata": {},
     "output_type": "execute_result"
    }
   ],
   "source": [
    "#Question 4.3\n",
    "closest_prime(730573785)"
   ]
  },
  {
   "cell_type": "code",
   "execution_count": 20,
   "metadata": {},
   "outputs": [
    {
     "data": {
      "text/plain": [
       "[457, 983, 479, 967, 751, 11, 97]"
      ]
     },
     "execution_count": 20,
     "metadata": {},
     "output_type": "execute_result"
    }
   ],
   "source": [
    "#Question 4.4\n",
    "number_list = [456,983,482,963,749,12,97]\n",
    "new_number_list = [closest_prime(num) for num in number_list]\n",
    "\n",
    "\n",
    "new_number_list"
   ]
  },
  {
   "cell_type": "code",
   "execution_count": null,
   "metadata": {},
   "outputs": [],
   "source": []
  }
 ],
 "metadata": {
  "kernelspec": {
   "display_name": "Python 3 (ipykernel)",
   "language": "python",
   "name": "python3"
  },
  "language_info": {
   "codemirror_mode": {
    "name": "ipython",
    "version": 3
   },
   "file_extension": ".py",
   "mimetype": "text/x-python",
   "name": "python",
   "nbconvert_exporter": "python",
   "pygments_lexer": "ipython3",
   "version": "3.11.7"
  }
 },
 "nbformat": 4,
 "nbformat_minor": 4
}
