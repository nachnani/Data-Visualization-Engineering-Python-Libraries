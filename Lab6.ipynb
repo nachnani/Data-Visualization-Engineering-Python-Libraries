{
 "cells": [
  {
   "cell_type": "markdown",
   "metadata": {
    "id": "Gw5o-c0odkX0"
   },
   "source": [
    "\n",
    "# STOR 320: Introduction to Data Science\n",
    "## Lab 6\n",
    "\n",
    "**Name:** Robert Nachnani\n",
    "\n",
    "**PID:** 730573785"
   ]
  },
  {
   "cell_type": "code",
   "execution_count": 74,
   "metadata": {
    "id": "O1NhFft9e6oF"
   },
   "outputs": [],
   "source": [
    "from datetime import datetime\n",
    "from bs4 import BeautifulSoup\n",
    "from io import StringIO\n",
    "import numpy as np\n",
    "import pandas as pd\n",
    "import matplotlib.pyplot as plt\n",
    "import seaborn as sns\n",
    "import requests"
   ]
  },
  {
   "cell_type": "code",
   "execution_count": 12,
   "metadata": {},
   "outputs": [
    {
     "name": "stdout",
     "output_type": "stream",
     "text": [
      "Requirement already satisfied: html5lib in c:\\users\\xanto\\anaconda3\\lib\\site-packages (1.1)\n",
      "Requirement already satisfied: six>=1.9 in c:\\users\\xanto\\appdata\\roaming\\python\\python311\\site-packages (from html5lib) (1.16.0)\n",
      "Requirement already satisfied: webencodings in c:\\users\\xanto\\anaconda3\\lib\\site-packages (from html5lib) (0.5.1)\n",
      "Note: you may need to restart the kernel to use updated packages.\n"
     ]
    }
   ],
   "source": [
    "%pip install html5lib"
   ]
  },
  {
   "cell_type": "markdown",
   "metadata": {
    "id": "BtnORIYQ82OD"
   },
   "source": [
    "# Scraping, Merging, and Analyzing Datasets for Countries (25 points)\n",
    "\n",
    "**Background:** Many times in data science, your data will be split between many different sources, some of which may be online. In this analysis assignment, we will webscrape country level data from multiple websites, clean the data individually, and merge the data. The website [Worldometers](https://www.worldometers.info/) contains very interesting country level data that when connected may allow us to learn interesting things about the wonderful world in which we exist."
   ]
  },
  {
   "cell_type": "markdown",
   "metadata": {
    "id": "DFCyg5sU9nVg"
   },
   "source": [
    "## 0. GDP by Country (7 Points)\n",
    "Information at [Worldometer GDP](https://www.worldometers.info/gdp/gdp-by-country/) contains GDP data from 2022 published by the world bank. GDP is the monetary value of goods and services produced within a country over a period of time. On this website, GDP is presented in dollars."
   ]
  },
  {
   "cell_type": "markdown",
   "metadata": {
    "id": "nz13huHt-Tfg"
   },
   "source": [
    "### 0.0 Scraping the Data\n",
    "We will walk through webscraping the data from https://www.worldometers.info/gdp/gdp-by-country/ using Pandas into a DataFrame called GDP. You should end up with a new object called GDP which is a DataFrame with 177 observations and 8 variables."
   ]
  },
  {
   "cell_type": "code",
   "execution_count": 21,
   "metadata": {
    "id": "BpSRit839m0N"
   },
   "outputs": [
    {
     "data": {
      "text/plain": [
       "(177, 8)"
      ]
     },
     "execution_count": 21,
     "metadata": {},
     "output_type": "execute_result"
    }
   ],
   "source": [
    "URL_GDP = \"https://www.worldometers.info/gdp/gdp-by-country/\"\n",
    "\n",
    "# Send a GET request to the URL\n",
    "response = requests.get(URL_GDP)\n",
    "\n",
    "# Parse the HTML content\n",
    "soup = BeautifulSoup(response.content, 'html.parser')\n",
    "\n",
    "# Find all tables and read into pandas DataFrame\n",
    "tables = soup.find_all('table')\n",
    "\n",
    "table_IO = StringIO(str(tables))\n",
    "GDP = pd.read_html(table_IO, flavor='bs4', header=0)[0]  # Read the first table\n",
    "\n",
    "GDP.shape"
   ]
  },
  {
   "cell_type": "code",
   "execution_count": 22,
   "metadata": {
    "id": "IrAKzK_E-63o"
   },
   "outputs": [
    {
     "data": {
      "text/html": [
       "<div>\n",
       "<style scoped>\n",
       "    .dataframe tbody tr th:only-of-type {\n",
       "        vertical-align: middle;\n",
       "    }\n",
       "\n",
       "    .dataframe tbody tr th {\n",
       "        vertical-align: top;\n",
       "    }\n",
       "\n",
       "    .dataframe thead th {\n",
       "        text-align: right;\n",
       "    }\n",
       "</style>\n",
       "<table border=\"1\" class=\"dataframe\">\n",
       "  <thead>\n",
       "    <tr style=\"text-align: right;\">\n",
       "      <th></th>\n",
       "      <th>#</th>\n",
       "      <th>Country</th>\n",
       "      <th>GDP  (nominal, 2022)</th>\n",
       "      <th>GDP  (abbrev.)</th>\n",
       "      <th>GDP growth</th>\n",
       "      <th>Population  (2022)</th>\n",
       "      <th>GDP per capita</th>\n",
       "      <th>Share of  World GDP</th>\n",
       "    </tr>\n",
       "  </thead>\n",
       "  <tbody>\n",
       "    <tr>\n",
       "      <th>0</th>\n",
       "      <td>1</td>\n",
       "      <td>United States</td>\n",
       "      <td>$25,462,700,000,000</td>\n",
       "      <td>$25.463 trillion</td>\n",
       "      <td>2.06%</td>\n",
       "      <td>341534046</td>\n",
       "      <td>$74,554</td>\n",
       "      <td>25.32%</td>\n",
       "    </tr>\n",
       "    <tr>\n",
       "      <th>1</th>\n",
       "      <td>2</td>\n",
       "      <td>China</td>\n",
       "      <td>$17,963,200,000,000</td>\n",
       "      <td>$17.963 trillion</td>\n",
       "      <td>2.99%</td>\n",
       "      <td>1425179569</td>\n",
       "      <td>$12,604</td>\n",
       "      <td>17.86%</td>\n",
       "    </tr>\n",
       "    <tr>\n",
       "      <th>2</th>\n",
       "      <td>3</td>\n",
       "      <td>Japan</td>\n",
       "      <td>$4,231,140,000,000</td>\n",
       "      <td>$4.231 trillion</td>\n",
       "      <td>1.03%</td>\n",
       "      <td>124997578</td>\n",
       "      <td>$33,850</td>\n",
       "      <td>4.21%</td>\n",
       "    </tr>\n",
       "    <tr>\n",
       "      <th>3</th>\n",
       "      <td>4</td>\n",
       "      <td>Germany</td>\n",
       "      <td>$4,072,190,000,000</td>\n",
       "      <td>$4.072 trillion</td>\n",
       "      <td>1.79%</td>\n",
       "      <td>84086227</td>\n",
       "      <td>$48,429</td>\n",
       "      <td>4.05%</td>\n",
       "    </tr>\n",
       "    <tr>\n",
       "      <th>4</th>\n",
       "      <td>5</td>\n",
       "      <td>India</td>\n",
       "      <td>$3,385,090,000,000</td>\n",
       "      <td>$3.385 trillion</td>\n",
       "      <td>7.00%</td>\n",
       "      <td>1425423212</td>\n",
       "      <td>$2,375</td>\n",
       "      <td>3.37%</td>\n",
       "    </tr>\n",
       "  </tbody>\n",
       "</table>\n",
       "</div>"
      ],
      "text/plain": [
       "   #        Country GDP  (nominal, 2022)    GDP  (abbrev.) GDP growth  \\\n",
       "0  1  United States  $25,462,700,000,000  $25.463 trillion      2.06%   \n",
       "1  2          China  $17,963,200,000,000  $17.963 trillion      2.99%   \n",
       "2  3          Japan   $4,231,140,000,000   $4.231 trillion      1.03%   \n",
       "3  4        Germany   $4,072,190,000,000   $4.072 trillion      1.79%   \n",
       "4  5          India   $3,385,090,000,000   $3.385 trillion      7.00%   \n",
       "\n",
       "   Population  (2022) GDP per capita Share of  World GDP  \n",
       "0           341534046        $74,554              25.32%  \n",
       "1          1425179569        $12,604              17.86%  \n",
       "2           124997578        $33,850               4.21%  \n",
       "3            84086227        $48,429               4.05%  \n",
       "4          1425423212         $2,375               3.37%  "
      ]
     },
     "execution_count": 22,
     "metadata": {},
     "output_type": "execute_result"
    }
   ],
   "source": [
    "GDP.head(5)"
   ]
  },
  {
   "cell_type": "markdown",
   "metadata": {
    "id": "t3aHYGDo-_R2"
   },
   "source": [
    "### 0.1 Cleaning the Data (7 points)\n",
    "\n",
    "Now that we scraped our data into a DataFrame, we need to clean it up. Perform the following tasks:\n",
    "\n",
    "1.   Remove the first ('#') and fourth ('GDP (abbrev.)') columns from the DataFrame.\n",
    "2.   Rename the columns 'GDP  (nominal, 2022)', 'GDP growth', 'Population  (2022)', 'GDP per capita', and 'Share of  World GDP' to 'GDP', 'Growth', 'Population', 'PerCapita', and 'Share', respectively.\n",
    "3.   Remove all dollar signs, percent signs, and commas from 'GDP', 'Growth', 'PerCapita', and 'Share'.\n",
    "4.  Update column data type of \"Country\" to be a string dtype and the remaining columns to be numeric. Hint: use `pd.to_numeric`\n",
    "5. Rewrite over the original 'GDP' variable with a new variable called 'GDP' that is in trillions of dollars rather than in actual dollars. Rewrite over the original 'Population' variable with a new variable of the same name that is in millions of people rather than in actual people. You are scaling the original variables to change the units without changing the variable names.\n",
    "\n",
    "Be careful of the formatting and spacing in the original column names! Display the first five rows of the cleaned `GDP` DataFrame and the dtype info for `GDP`.\n",
    "\n"
   ]
  },
  {
   "cell_type": "code",
   "execution_count": 23,
   "metadata": {
    "id": "dKXshhbe_1V2"
   },
   "outputs": [
    {
     "data": {
      "text/html": [
       "<div>\n",
       "<style scoped>\n",
       "    .dataframe tbody tr th:only-of-type {\n",
       "        vertical-align: middle;\n",
       "    }\n",
       "\n",
       "    .dataframe tbody tr th {\n",
       "        vertical-align: top;\n",
       "    }\n",
       "\n",
       "    .dataframe thead th {\n",
       "        text-align: right;\n",
       "    }\n",
       "</style>\n",
       "<table border=\"1\" class=\"dataframe\">\n",
       "  <thead>\n",
       "    <tr style=\"text-align: right;\">\n",
       "      <th></th>\n",
       "      <th>Country</th>\n",
       "      <th>GDP  (nominal, 2022)</th>\n",
       "      <th>GDP growth</th>\n",
       "      <th>Population  (2022)</th>\n",
       "      <th>GDP per capita</th>\n",
       "      <th>Share of  World GDP</th>\n",
       "    </tr>\n",
       "  </thead>\n",
       "  <tbody>\n",
       "    <tr>\n",
       "      <th>0</th>\n",
       "      <td>United States</td>\n",
       "      <td>$25,462,700,000,000</td>\n",
       "      <td>2.06%</td>\n",
       "      <td>341534046</td>\n",
       "      <td>$74,554</td>\n",
       "      <td>25.32%</td>\n",
       "    </tr>\n",
       "    <tr>\n",
       "      <th>1</th>\n",
       "      <td>China</td>\n",
       "      <td>$17,963,200,000,000</td>\n",
       "      <td>2.99%</td>\n",
       "      <td>1425179569</td>\n",
       "      <td>$12,604</td>\n",
       "      <td>17.86%</td>\n",
       "    </tr>\n",
       "    <tr>\n",
       "      <th>2</th>\n",
       "      <td>Japan</td>\n",
       "      <td>$4,231,140,000,000</td>\n",
       "      <td>1.03%</td>\n",
       "      <td>124997578</td>\n",
       "      <td>$33,850</td>\n",
       "      <td>4.21%</td>\n",
       "    </tr>\n",
       "    <tr>\n",
       "      <th>3</th>\n",
       "      <td>Germany</td>\n",
       "      <td>$4,072,190,000,000</td>\n",
       "      <td>1.79%</td>\n",
       "      <td>84086227</td>\n",
       "      <td>$48,429</td>\n",
       "      <td>4.05%</td>\n",
       "    </tr>\n",
       "    <tr>\n",
       "      <th>4</th>\n",
       "      <td>India</td>\n",
       "      <td>$3,385,090,000,000</td>\n",
       "      <td>7.00%</td>\n",
       "      <td>1425423212</td>\n",
       "      <td>$2,375</td>\n",
       "      <td>3.37%</td>\n",
       "    </tr>\n",
       "  </tbody>\n",
       "</table>\n",
       "</div>"
      ],
      "text/plain": [
       "         Country GDP  (nominal, 2022) GDP growth  Population  (2022)  \\\n",
       "0  United States  $25,462,700,000,000      2.06%           341534046   \n",
       "1          China  $17,963,200,000,000      2.99%          1425179569   \n",
       "2          Japan   $4,231,140,000,000      1.03%           124997578   \n",
       "3        Germany   $4,072,190,000,000      1.79%            84086227   \n",
       "4          India   $3,385,090,000,000      7.00%          1425423212   \n",
       "\n",
       "  GDP per capita Share of  World GDP  \n",
       "0        $74,554              25.32%  \n",
       "1        $12,604              17.86%  \n",
       "2        $33,850               4.21%  \n",
       "3        $48,429               4.05%  \n",
       "4         $2,375               3.37%  "
      ]
     },
     "execution_count": 23,
     "metadata": {},
     "output_type": "execute_result"
    }
   ],
   "source": [
    "# Code Solution Here\n",
    "GDP = GDP.drop(GDP.columns[[0,3]] , axis=1)\n",
    "GDP.head()"
   ]
  },
  {
   "cell_type": "code",
   "execution_count": 24,
   "metadata": {},
   "outputs": [
    {
     "data": {
      "text/html": [
       "<div>\n",
       "<style scoped>\n",
       "    .dataframe tbody tr th:only-of-type {\n",
       "        vertical-align: middle;\n",
       "    }\n",
       "\n",
       "    .dataframe tbody tr th {\n",
       "        vertical-align: top;\n",
       "    }\n",
       "\n",
       "    .dataframe thead th {\n",
       "        text-align: right;\n",
       "    }\n",
       "</style>\n",
       "<table border=\"1\" class=\"dataframe\">\n",
       "  <thead>\n",
       "    <tr style=\"text-align: right;\">\n",
       "      <th></th>\n",
       "      <th>Country</th>\n",
       "      <th>GDP</th>\n",
       "      <th>Growth</th>\n",
       "      <th>Population</th>\n",
       "      <th>PerCapita</th>\n",
       "      <th>Share</th>\n",
       "    </tr>\n",
       "  </thead>\n",
       "  <tbody>\n",
       "    <tr>\n",
       "      <th>0</th>\n",
       "      <td>United States</td>\n",
       "      <td>$25,462,700,000,000</td>\n",
       "      <td>2.06%</td>\n",
       "      <td>341534046</td>\n",
       "      <td>$74,554</td>\n",
       "      <td>25.32%</td>\n",
       "    </tr>\n",
       "    <tr>\n",
       "      <th>1</th>\n",
       "      <td>China</td>\n",
       "      <td>$17,963,200,000,000</td>\n",
       "      <td>2.99%</td>\n",
       "      <td>1425179569</td>\n",
       "      <td>$12,604</td>\n",
       "      <td>17.86%</td>\n",
       "    </tr>\n",
       "    <tr>\n",
       "      <th>2</th>\n",
       "      <td>Japan</td>\n",
       "      <td>$4,231,140,000,000</td>\n",
       "      <td>1.03%</td>\n",
       "      <td>124997578</td>\n",
       "      <td>$33,850</td>\n",
       "      <td>4.21%</td>\n",
       "    </tr>\n",
       "    <tr>\n",
       "      <th>3</th>\n",
       "      <td>Germany</td>\n",
       "      <td>$4,072,190,000,000</td>\n",
       "      <td>1.79%</td>\n",
       "      <td>84086227</td>\n",
       "      <td>$48,429</td>\n",
       "      <td>4.05%</td>\n",
       "    </tr>\n",
       "    <tr>\n",
       "      <th>4</th>\n",
       "      <td>India</td>\n",
       "      <td>$3,385,090,000,000</td>\n",
       "      <td>7.00%</td>\n",
       "      <td>1425423212</td>\n",
       "      <td>$2,375</td>\n",
       "      <td>3.37%</td>\n",
       "    </tr>\n",
       "  </tbody>\n",
       "</table>\n",
       "</div>"
      ],
      "text/plain": [
       "         Country                  GDP Growth  Population PerCapita   Share\n",
       "0  United States  $25,462,700,000,000  2.06%   341534046   $74,554  25.32%\n",
       "1          China  $17,963,200,000,000  2.99%  1425179569   $12,604  17.86%\n",
       "2          Japan   $4,231,140,000,000  1.03%   124997578   $33,850   4.21%\n",
       "3        Germany   $4,072,190,000,000  1.79%    84086227   $48,429   4.05%\n",
       "4          India   $3,385,090,000,000  7.00%  1425423212    $2,375   3.37%"
      ]
     },
     "execution_count": 24,
     "metadata": {},
     "output_type": "execute_result"
    }
   ],
   "source": [
    "GDP.columns = [GDP.columns[0] , 'GDP' , 'Growth' , 'Population' , 'PerCapita' , 'Share']\n",
    "GDP.head()"
   ]
  },
  {
   "cell_type": "code",
   "execution_count": 25,
   "metadata": {},
   "outputs": [
    {
     "data": {
      "text/html": [
       "<div>\n",
       "<style scoped>\n",
       "    .dataframe tbody tr th:only-of-type {\n",
       "        vertical-align: middle;\n",
       "    }\n",
       "\n",
       "    .dataframe tbody tr th {\n",
       "        vertical-align: top;\n",
       "    }\n",
       "\n",
       "    .dataframe thead th {\n",
       "        text-align: right;\n",
       "    }\n",
       "</style>\n",
       "<table border=\"1\" class=\"dataframe\">\n",
       "  <thead>\n",
       "    <tr style=\"text-align: right;\">\n",
       "      <th></th>\n",
       "      <th>Country</th>\n",
       "      <th>GDP</th>\n",
       "      <th>Growth</th>\n",
       "      <th>Population</th>\n",
       "      <th>PerCapita</th>\n",
       "      <th>Share</th>\n",
       "    </tr>\n",
       "  </thead>\n",
       "  <tbody>\n",
       "    <tr>\n",
       "      <th>0</th>\n",
       "      <td>United States</td>\n",
       "      <td>25462700000000</td>\n",
       "      <td>2.06</td>\n",
       "      <td>341534046</td>\n",
       "      <td>74554</td>\n",
       "      <td>25.32</td>\n",
       "    </tr>\n",
       "    <tr>\n",
       "      <th>1</th>\n",
       "      <td>China</td>\n",
       "      <td>17963200000000</td>\n",
       "      <td>2.99</td>\n",
       "      <td>1425179569</td>\n",
       "      <td>12604</td>\n",
       "      <td>17.86</td>\n",
       "    </tr>\n",
       "    <tr>\n",
       "      <th>2</th>\n",
       "      <td>Japan</td>\n",
       "      <td>4231140000000</td>\n",
       "      <td>1.03</td>\n",
       "      <td>124997578</td>\n",
       "      <td>33850</td>\n",
       "      <td>4.21</td>\n",
       "    </tr>\n",
       "    <tr>\n",
       "      <th>3</th>\n",
       "      <td>Germany</td>\n",
       "      <td>4072190000000</td>\n",
       "      <td>1.79</td>\n",
       "      <td>84086227</td>\n",
       "      <td>48429</td>\n",
       "      <td>4.05</td>\n",
       "    </tr>\n",
       "    <tr>\n",
       "      <th>4</th>\n",
       "      <td>India</td>\n",
       "      <td>3385090000000</td>\n",
       "      <td>7.00</td>\n",
       "      <td>1425423212</td>\n",
       "      <td>2375</td>\n",
       "      <td>3.37</td>\n",
       "    </tr>\n",
       "  </tbody>\n",
       "</table>\n",
       "</div>"
      ],
      "text/plain": [
       "         Country             GDP  Growth  Population  PerCapita  Share\n",
       "0  United States  25462700000000    2.06   341534046      74554  25.32\n",
       "1          China  17963200000000    2.99  1425179569      12604  17.86\n",
       "2          Japan   4231140000000    1.03   124997578      33850   4.21\n",
       "3        Germany   4072190000000    1.79    84086227      48429   4.05\n",
       "4          India   3385090000000    7.00  1425423212       2375   3.37"
      ]
     },
     "execution_count": 25,
     "metadata": {},
     "output_type": "execute_result"
    }
   ],
   "source": [
    "GDP['GDP'] = pd.to_numeric(GDP['GDP'].replace({'\\$': '', ',': ''}, regex=True))\n",
    "GDP['Growth'] = pd.to_numeric(GDP['Growth'].replace({'%': ''}, regex=True))\n",
    "GDP['PerCapita'] = pd.to_numeric(GDP['PerCapita'].replace({'\\$': '', ',': ''}, regex=True))\n",
    "GDP['Share'] = pd.to_numeric(GDP['Share'].replace({'%': ''}, regex=True))\n",
    "GDP['Population'] = pd.to_numeric(GDP['Population'].replace({',': ''}, regex=True))\n",
    "GDP['Country'] = GDP['Country'].astype(str)\n",
    "GDP.head()"
   ]
  },
  {
   "cell_type": "code",
   "execution_count": 26,
   "metadata": {},
   "outputs": [
    {
     "data": {
      "text/html": [
       "<div>\n",
       "<style scoped>\n",
       "    .dataframe tbody tr th:only-of-type {\n",
       "        vertical-align: middle;\n",
       "    }\n",
       "\n",
       "    .dataframe tbody tr th {\n",
       "        vertical-align: top;\n",
       "    }\n",
       "\n",
       "    .dataframe thead th {\n",
       "        text-align: right;\n",
       "    }\n",
       "</style>\n",
       "<table border=\"1\" class=\"dataframe\">\n",
       "  <thead>\n",
       "    <tr style=\"text-align: right;\">\n",
       "      <th></th>\n",
       "      <th>Country</th>\n",
       "      <th>GDP</th>\n",
       "      <th>Growth</th>\n",
       "      <th>Population</th>\n",
       "      <th>PerCapita</th>\n",
       "      <th>Share</th>\n",
       "    </tr>\n",
       "  </thead>\n",
       "  <tbody>\n",
       "    <tr>\n",
       "      <th>0</th>\n",
       "      <td>United States</td>\n",
       "      <td>25.462700</td>\n",
       "      <td>2.06</td>\n",
       "      <td>341.534046</td>\n",
       "      <td>74554</td>\n",
       "      <td>25.32</td>\n",
       "    </tr>\n",
       "    <tr>\n",
       "      <th>1</th>\n",
       "      <td>China</td>\n",
       "      <td>17.963200</td>\n",
       "      <td>2.99</td>\n",
       "      <td>1425.179569</td>\n",
       "      <td>12604</td>\n",
       "      <td>17.86</td>\n",
       "    </tr>\n",
       "    <tr>\n",
       "      <th>2</th>\n",
       "      <td>Japan</td>\n",
       "      <td>4.231140</td>\n",
       "      <td>1.03</td>\n",
       "      <td>124.997578</td>\n",
       "      <td>33850</td>\n",
       "      <td>4.21</td>\n",
       "    </tr>\n",
       "    <tr>\n",
       "      <th>3</th>\n",
       "      <td>Germany</td>\n",
       "      <td>4.072190</td>\n",
       "      <td>1.79</td>\n",
       "      <td>84.086227</td>\n",
       "      <td>48429</td>\n",
       "      <td>4.05</td>\n",
       "    </tr>\n",
       "    <tr>\n",
       "      <th>4</th>\n",
       "      <td>India</td>\n",
       "      <td>3.385090</td>\n",
       "      <td>7.00</td>\n",
       "      <td>1425.423212</td>\n",
       "      <td>2375</td>\n",
       "      <td>3.37</td>\n",
       "    </tr>\n",
       "    <tr>\n",
       "      <th>...</th>\n",
       "      <td>...</td>\n",
       "      <td>...</td>\n",
       "      <td>...</td>\n",
       "      <td>...</td>\n",
       "      <td>...</td>\n",
       "      <td>...</td>\n",
       "    </tr>\n",
       "    <tr>\n",
       "      <th>172</th>\n",
       "      <td>Sao Tome &amp; Principe</td>\n",
       "      <td>0.000547</td>\n",
       "      <td>0.93</td>\n",
       "      <td>0.226305</td>\n",
       "      <td>2416</td>\n",
       "      <td>0.00</td>\n",
       "    </tr>\n",
       "    <tr>\n",
       "      <th>173</th>\n",
       "      <td>Micronesia</td>\n",
       "      <td>0.000427</td>\n",
       "      <td>-0.62</td>\n",
       "      <td>0.523477</td>\n",
       "      <td>816</td>\n",
       "      <td>0.00</td>\n",
       "    </tr>\n",
       "    <tr>\n",
       "      <th>174</th>\n",
       "      <td>Marshall Islands</td>\n",
       "      <td>0.000280</td>\n",
       "      <td>1.50</td>\n",
       "      <td>0.040077</td>\n",
       "      <td>6978</td>\n",
       "      <td>0.00</td>\n",
       "    </tr>\n",
       "    <tr>\n",
       "      <th>175</th>\n",
       "      <td>Kiribati</td>\n",
       "      <td>0.000223</td>\n",
       "      <td>1.56</td>\n",
       "      <td>0.130469</td>\n",
       "      <td>1712</td>\n",
       "      <td>0.00</td>\n",
       "    </tr>\n",
       "    <tr>\n",
       "      <th>176</th>\n",
       "      <td>Tuvalu</td>\n",
       "      <td>0.000060</td>\n",
       "      <td>0.68</td>\n",
       "      <td>0.009992</td>\n",
       "      <td>6040</td>\n",
       "      <td>0.00</td>\n",
       "    </tr>\n",
       "  </tbody>\n",
       "</table>\n",
       "<p>177 rows × 6 columns</p>\n",
       "</div>"
      ],
      "text/plain": [
       "                 Country        GDP  Growth   Population  PerCapita  Share\n",
       "0          United States  25.462700    2.06   341.534046      74554  25.32\n",
       "1                  China  17.963200    2.99  1425.179569      12604  17.86\n",
       "2                  Japan   4.231140    1.03   124.997578      33850   4.21\n",
       "3                Germany   4.072190    1.79    84.086227      48429   4.05\n",
       "4                  India   3.385090    7.00  1425.423212       2375   3.37\n",
       "..                   ...        ...     ...          ...        ...    ...\n",
       "172  Sao Tome & Principe   0.000547    0.93     0.226305       2416   0.00\n",
       "173           Micronesia   0.000427   -0.62     0.523477        816   0.00\n",
       "174     Marshall Islands   0.000280    1.50     0.040077       6978   0.00\n",
       "175             Kiribati   0.000223    1.56     0.130469       1712   0.00\n",
       "176               Tuvalu   0.000060    0.68     0.009992       6040   0.00\n",
       "\n",
       "[177 rows x 6 columns]"
      ]
     },
     "execution_count": 26,
     "metadata": {},
     "output_type": "execute_result"
    }
   ],
   "source": [
    "GDP['GDP'] = GDP['GDP'] / 1e12\n",
    "GDP['Population'] = GDP['Population'] / 1e6\n",
    "GDP"
   ]
  },
  {
   "cell_type": "markdown",
   "metadata": {
    "id": "4ExGvJDzEgvS"
   },
   "source": [
    "## 1. Education Index Data by Country (3 Points)\n",
    "\n",
    "Check out the [Wikipedia page](https://en.wikipedia.org/wiki/Education_Index), which contains the education index for all countries from 1990 to 2019."
   ]
  },
  {
   "cell_type": "markdown",
   "metadata": {
    "id": "uCcsppANFQdu"
   },
   "source": [
    "### 1.0 Scraping the Education Index Data\n",
    "The code provided scrapes the data from (https://en.wikipedia.org/wiki/Education_Index) into a data frame called EDU."
   ]
  },
  {
   "cell_type": "code",
   "execution_count": 27,
   "metadata": {
    "id": "CVtAj-JDEwZw"
   },
   "outputs": [
    {
     "data": {
      "text/html": [
       "<div>\n",
       "<style scoped>\n",
       "    .dataframe tbody tr th:only-of-type {\n",
       "        vertical-align: middle;\n",
       "    }\n",
       "\n",
       "    .dataframe tbody tr th {\n",
       "        vertical-align: top;\n",
       "    }\n",
       "\n",
       "    .dataframe thead th {\n",
       "        text-align: right;\n",
       "    }\n",
       "</style>\n",
       "<table border=\"1\" class=\"dataframe\">\n",
       "  <thead>\n",
       "    <tr style=\"text-align: right;\">\n",
       "      <th></th>\n",
       "      <th>Country</th>\n",
       "      <th>1990</th>\n",
       "      <th>1991</th>\n",
       "      <th>1992</th>\n",
       "      <th>1993</th>\n",
       "      <th>1994</th>\n",
       "      <th>1995</th>\n",
       "      <th>1996</th>\n",
       "      <th>1997</th>\n",
       "      <th>1998</th>\n",
       "      <th>...</th>\n",
       "      <th>2010</th>\n",
       "      <th>2011</th>\n",
       "      <th>2012</th>\n",
       "      <th>2013</th>\n",
       "      <th>2014</th>\n",
       "      <th>2015</th>\n",
       "      <th>2016</th>\n",
       "      <th>2017</th>\n",
       "      <th>2018</th>\n",
       "      <th>2019</th>\n",
       "    </tr>\n",
       "  </thead>\n",
       "  <tbody>\n",
       "    <tr>\n",
       "      <th>0</th>\n",
       "      <td>Afghanistan</td>\n",
       "      <td>0.122</td>\n",
       "      <td>0.133</td>\n",
       "      <td>0.145</td>\n",
       "      <td>0.156</td>\n",
       "      <td>0.168</td>\n",
       "      <td>0.179</td>\n",
       "      <td>0.190</td>\n",
       "      <td>0.202</td>\n",
       "      <td>0.213</td>\n",
       "      <td>...</td>\n",
       "      <td>0.372</td>\n",
       "      <td>0.374</td>\n",
       "      <td>0.390</td>\n",
       "      <td>0.398</td>\n",
       "      <td>0.403</td>\n",
       "      <td>0.405</td>\n",
       "      <td>0.406</td>\n",
       "      <td>0.408</td>\n",
       "      <td>0.413</td>\n",
       "      <td>0.414</td>\n",
       "    </tr>\n",
       "    <tr>\n",
       "      <th>1</th>\n",
       "      <td>Albania</td>\n",
       "      <td>0.583</td>\n",
       "      <td>0.588</td>\n",
       "      <td>0.557</td>\n",
       "      <td>0.542</td>\n",
       "      <td>0.528</td>\n",
       "      <td>0.550</td>\n",
       "      <td>0.557</td>\n",
       "      <td>0.569</td>\n",
       "      <td>0.579</td>\n",
       "      <td>...</td>\n",
       "      <td>0.671</td>\n",
       "      <td>0.714</td>\n",
       "      <td>0.739</td>\n",
       "      <td>0.749</td>\n",
       "      <td>0.758</td>\n",
       "      <td>0.753</td>\n",
       "      <td>0.745</td>\n",
       "      <td>0.747</td>\n",
       "      <td>0.743</td>\n",
       "      <td>0.746</td>\n",
       "    </tr>\n",
       "    <tr>\n",
       "      <th>2</th>\n",
       "      <td>Algeria</td>\n",
       "      <td>0.385</td>\n",
       "      <td>0.395</td>\n",
       "      <td>0.405</td>\n",
       "      <td>0.414</td>\n",
       "      <td>0.424</td>\n",
       "      <td>0.431</td>\n",
       "      <td>0.443</td>\n",
       "      <td>0.458</td>\n",
       "      <td>0.473</td>\n",
       "      <td>...</td>\n",
       "      <td>0.626</td>\n",
       "      <td>0.644</td>\n",
       "      <td>0.639</td>\n",
       "      <td>0.639</td>\n",
       "      <td>0.652</td>\n",
       "      <td>0.659</td>\n",
       "      <td>0.660</td>\n",
       "      <td>0.665</td>\n",
       "      <td>0.668</td>\n",
       "      <td>0.672</td>\n",
       "    </tr>\n",
       "    <tr>\n",
       "      <th>3</th>\n",
       "      <td>Andorra</td>\n",
       "      <td>NaN</td>\n",
       "      <td>NaN</td>\n",
       "      <td>NaN</td>\n",
       "      <td>NaN</td>\n",
       "      <td>NaN</td>\n",
       "      <td>NaN</td>\n",
       "      <td>NaN</td>\n",
       "      <td>NaN</td>\n",
       "      <td>NaN</td>\n",
       "      <td>...</td>\n",
       "      <td>0.670</td>\n",
       "      <td>0.671</td>\n",
       "      <td>0.724</td>\n",
       "      <td>0.714</td>\n",
       "      <td>0.725</td>\n",
       "      <td>0.718</td>\n",
       "      <td>0.722</td>\n",
       "      <td>0.713</td>\n",
       "      <td>0.720</td>\n",
       "      <td>0.720</td>\n",
       "    </tr>\n",
       "    <tr>\n",
       "      <th>4</th>\n",
       "      <td>Angola</td>\n",
       "      <td>NaN</td>\n",
       "      <td>NaN</td>\n",
       "      <td>NaN</td>\n",
       "      <td>NaN</td>\n",
       "      <td>NaN</td>\n",
       "      <td>NaN</td>\n",
       "      <td>NaN</td>\n",
       "      <td>NaN</td>\n",
       "      <td>NaN</td>\n",
       "      <td>...</td>\n",
       "      <td>0.398</td>\n",
       "      <td>0.423</td>\n",
       "      <td>0.435</td>\n",
       "      <td>0.447</td>\n",
       "      <td>0.460</td>\n",
       "      <td>0.472</td>\n",
       "      <td>0.487</td>\n",
       "      <td>0.498</td>\n",
       "      <td>0.500</td>\n",
       "      <td>0.500</td>\n",
       "    </tr>\n",
       "  </tbody>\n",
       "</table>\n",
       "<p>5 rows × 31 columns</p>\n",
       "</div>"
      ],
      "text/plain": [
       "       Country   1990   1991   1992   1993   1994   1995   1996   1997   1998  \\\n",
       "0  Afghanistan  0.122  0.133  0.145  0.156  0.168  0.179  0.190  0.202  0.213   \n",
       "1      Albania  0.583  0.588  0.557  0.542  0.528  0.550  0.557  0.569  0.579   \n",
       "2      Algeria  0.385  0.395  0.405  0.414  0.424  0.431  0.443  0.458  0.473   \n",
       "3      Andorra    NaN    NaN    NaN    NaN    NaN    NaN    NaN    NaN    NaN   \n",
       "4       Angola    NaN    NaN    NaN    NaN    NaN    NaN    NaN    NaN    NaN   \n",
       "\n",
       "   ...   2010   2011   2012   2013   2014   2015   2016   2017   2018   2019  \n",
       "0  ...  0.372  0.374  0.390  0.398  0.403  0.405  0.406  0.408  0.413  0.414  \n",
       "1  ...  0.671  0.714  0.739  0.749  0.758  0.753  0.745  0.747  0.743  0.746  \n",
       "2  ...  0.626  0.644  0.639  0.639  0.652  0.659  0.660  0.665  0.668  0.672  \n",
       "3  ...  0.670  0.671  0.724  0.714  0.725  0.718  0.722  0.713  0.720  0.720  \n",
       "4  ...  0.398  0.423  0.435  0.447  0.460  0.472  0.487  0.498  0.500  0.500  \n",
       "\n",
       "[5 rows x 31 columns]"
      ]
     },
     "execution_count": 27,
     "metadata": {},
     "output_type": "execute_result"
    }
   ],
   "source": [
    "# URL to fetch data from\n",
    "URL_EDU = \"https://en.wikipedia.org/wiki/Education_Index\"\n",
    "\n",
    "# Fetch the HTML content\n",
    "response = requests.get(URL_EDU)\n",
    "soup = BeautifulSoup(response.content, 'html.parser')\n",
    "\n",
    "# Find the table and read it into a DataFrame\n",
    "table = soup.find_all('table')[0]  # Assuming the first table is the one we want\n",
    "table_IO = StringIO(str(table))\n",
    "EDU = pd.read_html(table_IO, flavor='bs4', header=0)[0]\n",
    "\n",
    "EDU.head(5)"
   ]
  },
  {
   "cell_type": "markdown",
   "metadata": {
    "id": "g6aimlTHJ1eo"
   },
   "source": [
    "### 1.1 Cleaning the Education Data (3 points)\n",
    "Perform the following tasks to clean the `EDU` DataFrame:\n",
    "\n",
    "1. Modify the resulting DataFrame `EDU` to only keep 2 variables: 1) the country’s name and 2) its education index from 2019.\n",
    "2. Rename the variable named “2019” to “EDIndex”.\n",
    "3. Update the dtype of 'Country' to a string.  \n",
    "\n",
    "Display the first 5 rows of `EDU` and the info of `EDU` after making these changes."
   ]
  },
  {
   "cell_type": "code",
   "execution_count": 28,
   "metadata": {
    "id": "jQdE9YokGw_R"
   },
   "outputs": [
    {
     "data": {
      "text/html": [
       "<div>\n",
       "<style scoped>\n",
       "    .dataframe tbody tr th:only-of-type {\n",
       "        vertical-align: middle;\n",
       "    }\n",
       "\n",
       "    .dataframe tbody tr th {\n",
       "        vertical-align: top;\n",
       "    }\n",
       "\n",
       "    .dataframe thead th {\n",
       "        text-align: right;\n",
       "    }\n",
       "</style>\n",
       "<table border=\"1\" class=\"dataframe\">\n",
       "  <thead>\n",
       "    <tr style=\"text-align: right;\">\n",
       "      <th></th>\n",
       "      <th>Country</th>\n",
       "      <th>EDIndex</th>\n",
       "    </tr>\n",
       "  </thead>\n",
       "  <tbody>\n",
       "    <tr>\n",
       "      <th>0</th>\n",
       "      <td>Afghanistan</td>\n",
       "      <td>0.414</td>\n",
       "    </tr>\n",
       "    <tr>\n",
       "      <th>1</th>\n",
       "      <td>Albania</td>\n",
       "      <td>0.746</td>\n",
       "    </tr>\n",
       "    <tr>\n",
       "      <th>2</th>\n",
       "      <td>Algeria</td>\n",
       "      <td>0.672</td>\n",
       "    </tr>\n",
       "    <tr>\n",
       "      <th>3</th>\n",
       "      <td>Andorra</td>\n",
       "      <td>0.720</td>\n",
       "    </tr>\n",
       "    <tr>\n",
       "      <th>4</th>\n",
       "      <td>Angola</td>\n",
       "      <td>0.500</td>\n",
       "    </tr>\n",
       "  </tbody>\n",
       "</table>\n",
       "</div>"
      ],
      "text/plain": [
       "       Country  EDIndex\n",
       "0  Afghanistan    0.414\n",
       "1      Albania    0.746\n",
       "2      Algeria    0.672\n",
       "3      Andorra    0.720\n",
       "4       Angola    0.500"
      ]
     },
     "execution_count": 28,
     "metadata": {},
     "output_type": "execute_result"
    }
   ],
   "source": [
    "# Code Solution Here\n",
    "EDU = EDU[['Country' , '2019']]\n",
    "EDU.rename(columns={'2019': 'EDIndex'}, inplace=True)\n",
    "EDU['Country'] = EDU['Country'].astype(str)\n",
    "EDU.head(5)"
   ]
  },
  {
   "cell_type": "markdown",
   "metadata": {
    "id": "WMjecRwgJ_OM"
   },
   "source": [
    "## 2: Merging the Datasets (8 points)\n",
    "\n",
    "Now, we are going to merge the datasets for maximum gains. Make sure you carefully read the instructions for each question. Be very careful in this part of the assignment."
   ]
  },
  {
   "cell_type": "markdown",
   "metadata": {
    "id": "j_3YMHidKNkQ"
   },
   "source": [
    "### 2.0 Joining GDP and EDU (2 Points)\n",
    "The dataset `GDP` is our primary dataset. Create a new DataFrame `GDP_EDU` that brings the the education data from `EDU` into the dataset `GDP` using a left join only. Display the first 12 rows of `GDP_EDU`."
   ]
  },
  {
   "cell_type": "code",
   "execution_count": 31,
   "metadata": {
    "id": "FUM4PUNnKb8m"
   },
   "outputs": [
    {
     "data": {
      "text/html": [
       "<div>\n",
       "<style scoped>\n",
       "    .dataframe tbody tr th:only-of-type {\n",
       "        vertical-align: middle;\n",
       "    }\n",
       "\n",
       "    .dataframe tbody tr th {\n",
       "        vertical-align: top;\n",
       "    }\n",
       "\n",
       "    .dataframe thead th {\n",
       "        text-align: right;\n",
       "    }\n",
       "</style>\n",
       "<table border=\"1\" class=\"dataframe\">\n",
       "  <thead>\n",
       "    <tr style=\"text-align: right;\">\n",
       "      <th></th>\n",
       "      <th>Country</th>\n",
       "      <th>GDP</th>\n",
       "      <th>Growth</th>\n",
       "      <th>Population</th>\n",
       "      <th>PerCapita</th>\n",
       "      <th>Share</th>\n",
       "      <th>EDIndex</th>\n",
       "    </tr>\n",
       "  </thead>\n",
       "  <tbody>\n",
       "    <tr>\n",
       "      <th>0</th>\n",
       "      <td>United States</td>\n",
       "      <td>25.462700</td>\n",
       "      <td>2.06</td>\n",
       "      <td>341.534046</td>\n",
       "      <td>74554</td>\n",
       "      <td>25.32</td>\n",
       "      <td>0.900</td>\n",
       "    </tr>\n",
       "    <tr>\n",
       "      <th>1</th>\n",
       "      <td>China</td>\n",
       "      <td>17.963200</td>\n",
       "      <td>2.99</td>\n",
       "      <td>1425.179569</td>\n",
       "      <td>12604</td>\n",
       "      <td>17.86</td>\n",
       "      <td>0.862</td>\n",
       "    </tr>\n",
       "    <tr>\n",
       "      <th>2</th>\n",
       "      <td>Japan</td>\n",
       "      <td>4.231140</td>\n",
       "      <td>1.03</td>\n",
       "      <td>124.997578</td>\n",
       "      <td>33850</td>\n",
       "      <td>4.21</td>\n",
       "      <td>0.851</td>\n",
       "    </tr>\n",
       "    <tr>\n",
       "      <th>3</th>\n",
       "      <td>Germany</td>\n",
       "      <td>4.072190</td>\n",
       "      <td>1.79</td>\n",
       "      <td>84.086227</td>\n",
       "      <td>48429</td>\n",
       "      <td>4.05</td>\n",
       "      <td>0.943</td>\n",
       "    </tr>\n",
       "    <tr>\n",
       "      <th>4</th>\n",
       "      <td>India</td>\n",
       "      <td>3.385090</td>\n",
       "      <td>7.00</td>\n",
       "      <td>1425.423212</td>\n",
       "      <td>2375</td>\n",
       "      <td>3.37</td>\n",
       "      <td>0.555</td>\n",
       "    </tr>\n",
       "    <tr>\n",
       "      <th>...</th>\n",
       "      <td>...</td>\n",
       "      <td>...</td>\n",
       "      <td>...</td>\n",
       "      <td>...</td>\n",
       "      <td>...</td>\n",
       "      <td>...</td>\n",
       "      <td>...</td>\n",
       "    </tr>\n",
       "    <tr>\n",
       "      <th>172</th>\n",
       "      <td>Sao Tome &amp; Principe</td>\n",
       "      <td>0.000547</td>\n",
       "      <td>0.93</td>\n",
       "      <td>0.226305</td>\n",
       "      <td>2416</td>\n",
       "      <td>0.00</td>\n",
       "      <td>NaN</td>\n",
       "    </tr>\n",
       "    <tr>\n",
       "      <th>173</th>\n",
       "      <td>Micronesia</td>\n",
       "      <td>0.000427</td>\n",
       "      <td>-0.62</td>\n",
       "      <td>0.523477</td>\n",
       "      <td>816</td>\n",
       "      <td>0.00</td>\n",
       "      <td>NaN</td>\n",
       "    </tr>\n",
       "    <tr>\n",
       "      <th>174</th>\n",
       "      <td>Marshall Islands</td>\n",
       "      <td>0.000280</td>\n",
       "      <td>1.50</td>\n",
       "      <td>0.040077</td>\n",
       "      <td>6978</td>\n",
       "      <td>0.00</td>\n",
       "      <td>0.707</td>\n",
       "    </tr>\n",
       "    <tr>\n",
       "      <th>175</th>\n",
       "      <td>Kiribati</td>\n",
       "      <td>0.000223</td>\n",
       "      <td>1.56</td>\n",
       "      <td>0.130469</td>\n",
       "      <td>1712</td>\n",
       "      <td>0.00</td>\n",
       "      <td>0.594</td>\n",
       "    </tr>\n",
       "    <tr>\n",
       "      <th>176</th>\n",
       "      <td>Tuvalu</td>\n",
       "      <td>0.000060</td>\n",
       "      <td>0.68</td>\n",
       "      <td>0.009992</td>\n",
       "      <td>6040</td>\n",
       "      <td>0.00</td>\n",
       "      <td>NaN</td>\n",
       "    </tr>\n",
       "  </tbody>\n",
       "</table>\n",
       "<p>177 rows × 7 columns</p>\n",
       "</div>"
      ],
      "text/plain": [
       "                 Country        GDP  Growth   Population  PerCapita  Share  \\\n",
       "0          United States  25.462700    2.06   341.534046      74554  25.32   \n",
       "1                  China  17.963200    2.99  1425.179569      12604  17.86   \n",
       "2                  Japan   4.231140    1.03   124.997578      33850   4.21   \n",
       "3                Germany   4.072190    1.79    84.086227      48429   4.05   \n",
       "4                  India   3.385090    7.00  1425.423212       2375   3.37   \n",
       "..                   ...        ...     ...          ...        ...    ...   \n",
       "172  Sao Tome & Principe   0.000547    0.93     0.226305       2416   0.00   \n",
       "173           Micronesia   0.000427   -0.62     0.523477        816   0.00   \n",
       "174     Marshall Islands   0.000280    1.50     0.040077       6978   0.00   \n",
       "175             Kiribati   0.000223    1.56     0.130469       1712   0.00   \n",
       "176               Tuvalu   0.000060    0.68     0.009992       6040   0.00   \n",
       "\n",
       "     EDIndex  \n",
       "0      0.900  \n",
       "1      0.862  \n",
       "2      0.851  \n",
       "3      0.943  \n",
       "4      0.555  \n",
       "..       ...  \n",
       "172      NaN  \n",
       "173      NaN  \n",
       "174    0.707  \n",
       "175    0.594  \n",
       "176      NaN  \n",
       "\n",
       "[177 rows x 7 columns]"
      ]
     },
     "execution_count": 31,
     "metadata": {},
     "output_type": "execute_result"
    }
   ],
   "source": [
    "# Code Solution Here\n",
    "GDP_EDU = pd.merge(GDP , EDU , how='left')\n",
    "GDP_EDU"
   ]
  },
  {
   "cell_type": "markdown",
   "metadata": {
    "id": "oJN0LaQeLlH1"
   },
   "source": [
    "### 2.1 Missing Education Index (2 Points)\n",
    "\n",
    "How many countries in `GDP_EDU` have missing values for Education Index? Show code that can be used to answer this question and then write your answer in complete sentences."
   ]
  },
  {
   "cell_type": "code",
   "execution_count": 32,
   "metadata": {
    "id": "6dqe8ujjMg9o"
   },
   "outputs": [
    {
     "data": {
      "text/plain": [
       "19"
      ]
     },
     "execution_count": 32,
     "metadata": {},
     "output_type": "execute_result"
    }
   ],
   "source": [
    "# Code Solution Here\n",
    "GDP_EDU['EDIndex'].isna().sum()"
   ]
  },
  {
   "cell_type": "markdown",
   "metadata": {
    "id": "24d4C3WqMi3V"
   },
   "source": [
    "Answer: 19 Countries have missing values for the Education Index"
   ]
  },
  {
   "cell_type": "markdown",
   "metadata": {
    "id": "rMyUH1hCMsLY"
   },
   "source": [
    "### 2.2 Data Inspection (3 Points)\n",
    "Closely inspect the original datasets and answer the following questions about GDP_EDU in complete sentences. You can use the code if needed, but it is not required. Please show all work. If you don’t reference the appropriate dataset or you are not specific in your answers, you will get 0 points."
   ]
  },
  {
   "cell_type": "markdown",
   "metadata": {
    "id": "oRG85iC8NFIq"
   },
   "source": [
    "#### 2.2.0 Why is there no education index for Iran in the dataset `G_EDU`? (1 Point)"
   ]
  },
  {
   "cell_type": "markdown",
   "metadata": {},
   "source": [
    "**Answer:**  There could be multiple answers to this, and the first one is that the education index could not be available for the original source. This could be due to the data for Iran being unreported, incomplete or unavailable at the time the data was collected. Iran also could have intentionally excluded their data off the education index data for political or economic reasons."
   ]
  },
  {
   "cell_type": "markdown",
   "metadata": {
    "id": "Ice-kEpJNmHq"
   },
   "source": [
    "#### 2.2.1 Why is there no education index for State of Palestine in the dataset `GDP_EDU`? (1 Point)"
   ]
  },
  {
   "cell_type": "markdown",
   "metadata": {},
   "source": [
    "**Answer:**  Well to state the obvious from the prior question, they could have excluded their education index or it was incomplete. Name of the state doesn't match each other in the EDU and GDP datasets, as it could have been 'Palestine' rather than 'State of Palestine' in one of the datasets.  They also just became their own state recently so they may not have data on the country."
   ]
  },
  {
   "cell_type": "markdown",
   "metadata": {
    "id": "vqum5LyvOAWa"
   },
   "source": [
    "#### 2.2.2 Why is there no education index for Laos in the dataset `GDP_EDU`? (1 point)"
   ]
  },
  {
   "cell_type": "markdown",
   "metadata": {
    "id": "iT6jN_vWOLID"
   },
   "source": [
    "Answer: Like the past countries we could have a multitude of reasons spanning from incomplete data, incorrect labeling, or even for political/economic reasons.  Another thing we haven't looked is that maybe the data collection methods of the countries are insufficient."
   ]
  },
  {
   "cell_type": "markdown",
   "metadata": {
    "id": "q5lvXvaCPUdf"
   },
   "source": [
    "### 2.2 Removing NA Values (1 point)\n",
    "\n",
    "Instead of replacing or dropping all the countries with missing values by hand, we will just drop all rows that are missing the Education Index to move forward with the analysis portion. Drop all rows from `GDP_EDU` that are null for `EDIndex`.\n",
    "\n"
   ]
  },
  {
   "cell_type": "code",
   "execution_count": 43,
   "metadata": {
    "id": "WUgW_EA7P72q"
   },
   "outputs": [
    {
     "data": {
      "text/html": [
       "<div>\n",
       "<style scoped>\n",
       "    .dataframe tbody tr th:only-of-type {\n",
       "        vertical-align: middle;\n",
       "    }\n",
       "\n",
       "    .dataframe tbody tr th {\n",
       "        vertical-align: top;\n",
       "    }\n",
       "\n",
       "    .dataframe thead th {\n",
       "        text-align: right;\n",
       "    }\n",
       "</style>\n",
       "<table border=\"1\" class=\"dataframe\">\n",
       "  <thead>\n",
       "    <tr style=\"text-align: right;\">\n",
       "      <th></th>\n",
       "      <th>Country</th>\n",
       "      <th>GDP</th>\n",
       "      <th>Growth</th>\n",
       "      <th>Population</th>\n",
       "      <th>PerCapita</th>\n",
       "      <th>Share</th>\n",
       "      <th>EDIndex</th>\n",
       "    </tr>\n",
       "  </thead>\n",
       "  <tbody>\n",
       "    <tr>\n",
       "      <th>0</th>\n",
       "      <td>United States</td>\n",
       "      <td>25.462700</td>\n",
       "      <td>2.06</td>\n",
       "      <td>341.534046</td>\n",
       "      <td>74554</td>\n",
       "      <td>25.32</td>\n",
       "      <td>0.900</td>\n",
       "    </tr>\n",
       "    <tr>\n",
       "      <th>1</th>\n",
       "      <td>China</td>\n",
       "      <td>17.963200</td>\n",
       "      <td>2.99</td>\n",
       "      <td>1425.179569</td>\n",
       "      <td>12604</td>\n",
       "      <td>17.86</td>\n",
       "      <td>0.862</td>\n",
       "    </tr>\n",
       "    <tr>\n",
       "      <th>2</th>\n",
       "      <td>Japan</td>\n",
       "      <td>4.231140</td>\n",
       "      <td>1.03</td>\n",
       "      <td>124.997578</td>\n",
       "      <td>33850</td>\n",
       "      <td>4.21</td>\n",
       "      <td>0.851</td>\n",
       "    </tr>\n",
       "    <tr>\n",
       "      <th>3</th>\n",
       "      <td>Germany</td>\n",
       "      <td>4.072190</td>\n",
       "      <td>1.79</td>\n",
       "      <td>84.086227</td>\n",
       "      <td>48429</td>\n",
       "      <td>4.05</td>\n",
       "      <td>0.943</td>\n",
       "    </tr>\n",
       "    <tr>\n",
       "      <th>4</th>\n",
       "      <td>India</td>\n",
       "      <td>3.385090</td>\n",
       "      <td>7.00</td>\n",
       "      <td>1425.423212</td>\n",
       "      <td>2375</td>\n",
       "      <td>3.37</td>\n",
       "      <td>0.555</td>\n",
       "    </tr>\n",
       "    <tr>\n",
       "      <th>...</th>\n",
       "      <td>...</td>\n",
       "      <td>...</td>\n",
       "      <td>...</td>\n",
       "      <td>...</td>\n",
       "      <td>...</td>\n",
       "      <td>...</td>\n",
       "      <td>...</td>\n",
       "    </tr>\n",
       "    <tr>\n",
       "      <th>167</th>\n",
       "      <td>Vanuatu</td>\n",
       "      <td>0.000984</td>\n",
       "      <td>1.85</td>\n",
       "      <td>0.313046</td>\n",
       "      <td>3142</td>\n",
       "      <td>0.00</td>\n",
       "      <td>0.561</td>\n",
       "    </tr>\n",
       "    <tr>\n",
       "      <th>170</th>\n",
       "      <td>Samoa</td>\n",
       "      <td>0.000832</td>\n",
       "      <td>-6.02</td>\n",
       "      <td>0.215261</td>\n",
       "      <td>3867</td>\n",
       "      <td>0.00</td>\n",
       "      <td>0.713</td>\n",
       "    </tr>\n",
       "    <tr>\n",
       "      <th>171</th>\n",
       "      <td>Dominica</td>\n",
       "      <td>0.000612</td>\n",
       "      <td>5.94</td>\n",
       "      <td>0.066826</td>\n",
       "      <td>9159</td>\n",
       "      <td>0.00</td>\n",
       "      <td>0.632</td>\n",
       "    </tr>\n",
       "    <tr>\n",
       "      <th>174</th>\n",
       "      <td>Marshall Islands</td>\n",
       "      <td>0.000280</td>\n",
       "      <td>1.50</td>\n",
       "      <td>0.040077</td>\n",
       "      <td>6978</td>\n",
       "      <td>0.00</td>\n",
       "      <td>0.707</td>\n",
       "    </tr>\n",
       "    <tr>\n",
       "      <th>175</th>\n",
       "      <td>Kiribati</td>\n",
       "      <td>0.000223</td>\n",
       "      <td>1.56</td>\n",
       "      <td>0.130469</td>\n",
       "      <td>1712</td>\n",
       "      <td>0.00</td>\n",
       "      <td>0.594</td>\n",
       "    </tr>\n",
       "  </tbody>\n",
       "</table>\n",
       "<p>158 rows × 7 columns</p>\n",
       "</div>"
      ],
      "text/plain": [
       "              Country        GDP  Growth   Population  PerCapita  Share  \\\n",
       "0       United States  25.462700    2.06   341.534046      74554  25.32   \n",
       "1               China  17.963200    2.99  1425.179569      12604  17.86   \n",
       "2               Japan   4.231140    1.03   124.997578      33850   4.21   \n",
       "3             Germany   4.072190    1.79    84.086227      48429   4.05   \n",
       "4               India   3.385090    7.00  1425.423212       2375   3.37   \n",
       "..                ...        ...     ...          ...        ...    ...   \n",
       "167           Vanuatu   0.000984    1.85     0.313046       3142   0.00   \n",
       "170             Samoa   0.000832   -6.02     0.215261       3867   0.00   \n",
       "171          Dominica   0.000612    5.94     0.066826       9159   0.00   \n",
       "174  Marshall Islands   0.000280    1.50     0.040077       6978   0.00   \n",
       "175          Kiribati   0.000223    1.56     0.130469       1712   0.00   \n",
       "\n",
       "     EDIndex  \n",
       "0      0.900  \n",
       "1      0.862  \n",
       "2      0.851  \n",
       "3      0.943  \n",
       "4      0.555  \n",
       "..       ...  \n",
       "167    0.561  \n",
       "170    0.713  \n",
       "171    0.632  \n",
       "174    0.707  \n",
       "175    0.594  \n",
       "\n",
       "[158 rows x 7 columns]"
      ]
     },
     "execution_count": 43,
     "metadata": {},
     "output_type": "execute_result"
    }
   ],
   "source": [
    "# Code Solution Here\n",
    "GDP_EDU.dropna(subset=['EDIndex'], inplace=True)\n",
    "GDP_EDU"
   ]
  },
  {
   "cell_type": "markdown",
   "metadata": {
    "id": "I79nDD9XQgJa"
   },
   "source": [
    "## 3. Analyzing the Merged Dataset (12 points)\n",
    "\n",
    "In these questions, find the answer using code, and then answer the question using complete sentences below the code."
   ]
  },
  {
   "cell_type": "markdown",
   "metadata": {
    "id": "d4R_GMZNQXjA"
   },
   "source": [
    "### 3.0 Above Average GDP PerCapita (2 Points)\n",
    "How many countries have a GDP per capita above the global average?"
   ]
  },
  {
   "cell_type": "code",
   "execution_count": 67,
   "metadata": {
    "id": "bhFr3T5KRom4"
   },
   "outputs": [
    {
     "data": {
      "text/plain": [
       "49"
      ]
     },
     "execution_count": 67,
     "metadata": {},
     "output_type": "execute_result"
    }
   ],
   "source": [
    "# Code Solution Here\n",
    "average = GDP_EDU['PerCapita'].mean(numeric_only=True)\n",
    "above_average = (GDP_EDU['PerCapita'] > average)\n",
    "above_average.sum()"
   ]
  },
  {
   "cell_type": "markdown",
   "metadata": {
    "id": "8QPOZi6RRo3i"
   },
   "source": [
    "Answer: 49"
   ]
  },
  {
   "cell_type": "markdown",
   "metadata": {
    "id": "R-SBUF38SC10"
   },
   "source": [
    "#### 3.1 Highest GDP Growth Rate (4 Points)\n",
    "\n",
    "*   Of the countries that have above average GDP PerCapita, what country has the highest GDP growth rate?\n",
    "*   Of the countries that have below average GDP PerCapita, what country has the highest GDP growth rate?"
   ]
  },
  {
   "cell_type": "code",
   "execution_count": 72,
   "metadata": {
    "id": "XUwOvFUpSWoI"
   },
   "outputs": [
    {
     "data": {
      "text/plain": [
       "('Guyana', 'Cabo Verde')"
      ]
     },
     "execution_count": 72,
     "metadata": {},
     "output_type": "execute_result"
    }
   ],
   "source": [
    "# Code Solution Here\n",
    "below_average = GDP_EDU[GDP_EDU['PerCapita'] < average][['Country', 'Growth']]\n",
    "above_average = GDP_EDU[GDP_EDU['PerCapita'] > average][['Country', 'Growth']]\n",
    "highest_growth_above_avg = above_average.loc[above_average['Growth'].idxmax(), 'Country']\n",
    "highest_growth_below_avg = below_average.loc[below_average['Growth'].idxmax(), 'Country']\n",
    "highest_growth_above_avg , highest_growth_below_avg"
   ]
  },
  {
   "cell_type": "markdown",
   "metadata": {
    "id": "VoZN-T1jSg0o"
   },
   "source": [
    "Answer: \n",
    "* Above Average: Guyana\n",
    "* Below Average: Cabo Verde"
   ]
  },
  {
   "cell_type": "markdown",
   "metadata": {
    "id": "jClnIT_ESmOa"
   },
   "source": [
    "#### 3.2 Lowest Education Index (4 Points)\n",
    "\n",
    "*   Of the countries that have above average GDP PerCapita, what country has the lowest education index?\n",
    "*   Of the countries that have below average GDP PerCapita, what country has the lowest education index?"
   ]
  },
  {
   "cell_type": "code",
   "execution_count": 73,
   "metadata": {
    "id": "sKTAa-2FSvhz"
   },
   "outputs": [
    {
     "data": {
      "text/plain": [
       "('Guyana', 'Niger')"
      ]
     },
     "execution_count": 73,
     "metadata": {},
     "output_type": "execute_result"
    }
   ],
   "source": [
    "# Code Solution Here\n",
    "below_average = GDP_EDU[GDP_EDU['PerCapita'] < average][['Country', 'Growth' , 'EDIndex']]\n",
    "above_average = GDP_EDU[GDP_EDU['PerCapita'] > average][['Country', 'Growth', 'EDIndex' ]]\n",
    "lowest_edu_above_avg = above_average.loc[above_average['EDIndex'].idxmin(), 'Country']\n",
    "lowest_edu_below_avg = below_average.loc[below_average['EDIndex'].idxmin(), 'Country']\n",
    "lowest_edu_above_avg , lowest_edu_below_avg"
   ]
  },
  {
   "cell_type": "markdown",
   "metadata": {
    "id": "zvNLdg2xTTzs"
   },
   "source": [
    "Answer: \n",
    "* Lowest Above Average: Guyana\n",
    "* Lowest Below Average: Niger"
   ]
  },
  {
   "cell_type": "markdown",
   "metadata": {
    "id": "X0Zindd6TaWL"
   },
   "source": [
    "#### 3.3 Critical Thinking (2 points)\n",
    "\n",
    "State two additional questions you could answer with the merged dataset. Be creative. You do not need to find the answer, but are welcome to if you are curious."
   ]
  },
  {
   "cell_type": "markdown",
   "metadata": {
    "id": "q2bAH32CTnAd"
   },
   "source": [
    "Answer: \n",
    "1. Does a higher EDIndex mean a higher GDP?\n",
    "2. Does population play a part in the GDP of a country?"
   ]
  }
 ],
 "metadata": {
  "colab": {
   "collapsed_sections": [
    "VvovrpUMe-Ox",
    "6s94bGs1d0qV",
    "vEv6udTVejAs",
    "cQ08LJCYj3Gx",
    "J9RFL4bCnbkm",
    "BtnORIYQ82OD",
    "DFCyg5sU9nVg",
    "4ExGvJDzEgvS",
    "WMjecRwgJ_OM",
    "I79nDD9XQgJa"
   ],
   "provenance": []
  },
  "kernelspec": {
   "display_name": "Python 3 (ipykernel)",
   "language": "python",
   "name": "python3"
  },
  "language_info": {
   "codemirror_mode": {
    "name": "ipython",
    "version": 3
   },
   "file_extension": ".py",
   "mimetype": "text/x-python",
   "name": "python",
   "nbconvert_exporter": "python",
   "pygments_lexer": "ipython3",
   "version": "3.11.7"
  }
 },
 "nbformat": 4,
 "nbformat_minor": 4
}
