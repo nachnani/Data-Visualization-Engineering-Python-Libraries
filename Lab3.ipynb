{
 "cells": [
  {
   "cell_type": "markdown",
   "metadata": {},
   "source": [
    "# Lab 3\n",
    "\n",
    "Labs in general are for you to solve short programming challenges in class. In contrast, homework assignments will involve more challenging and lengthy problems.\n",
    "\n",
    "Feel free to ask the TAs for help if there is anything you do not understand. The TAs will go through suggested solutions in the last 15 minutes of the lab - typically by solving them in a live demo. \n",
    "\n",
    "\n",
    "Please remember to submit the lab on Gradescope. "
   ]
  },
  {
   "cell_type": "markdown",
   "metadata": {},
   "source": [
    "### A few points to review\n",
    "1. NumPy"
   ]
  },
  {
   "cell_type": "code",
   "execution_count": null,
   "metadata": {},
   "outputs": [],
   "source": []
  },
  {
   "cell_type": "code",
   "execution_count": 9,
   "metadata": {},
   "outputs": [],
   "source": [
    "import numpy as np"
   ]
  },
  {
   "cell_type": "markdown",
   "metadata": {},
   "source": [
    "**1**. (1 point). Create two lists of 100 random integers in the `range[0, 1000]`. Find all numbers that are shared by the two lists."
   ]
  },
  {
   "cell_type": "code",
   "execution_count": 13,
   "metadata": {},
   "outputs": [],
   "source": [
    "x = np.random.randint(0, 1000, 100, int)\n",
    "y = np.random.randint(0, 1000, 100, int)"
   ]
  },
  {
   "cell_type": "code",
   "execution_count": 14,
   "metadata": {},
   "outputs": [
    {
     "data": {
      "text/plain": [
       "[776, 109, 339, 948, 605, 286, 511]"
      ]
     },
     "execution_count": 14,
     "metadata": {},
     "output_type": "execute_result"
    }
   ],
   "source": [
    "x = set(x)\n",
    "y = set(y)\n",
    "shared = list(x.intersection(y))\n",
    "shared"
   ]
  },
  {
   "cell_type": "markdown",
   "metadata": {},
   "source": [
    "**2**. (1.5 point). Given a NumPy array `data = np.random.randint(0, 100, size=(10, 10))`, perform the following tasks:\n",
    "\n",
    "- Create a boolean mask to filter out values greater than 50.\n",
    "- Use this mask to extract the filtered values.\n",
    "- Compute the mean of the filtered values."
   ]
  },
  {
   "cell_type": "code",
   "execution_count": 24,
   "metadata": {},
   "outputs": [
    {
     "data": {
      "text/plain": [
       "24.120689655172413"
      ]
     },
     "execution_count": 24,
     "metadata": {},
     "output_type": "execute_result"
    }
   ],
   "source": [
    "data = np.random.randint(0, 100, size=(10, 10))\n",
    "filter = data < 50\n",
    "\n",
    "data = data[filter]\n",
    "np.mean(data)"
   ]
  },
  {
   "cell_type": "markdown",
   "metadata": {},
   "source": [
    "**3**. (3 points) Basic array manipulation. \n",
    "\n",
    "- Generate a random matrix with shape (4,5) with draws from a standard normal distribution\n",
    "- Find row sums\n",
    "- Scale so each row has min=0 and max=1 (for a challenge, do this in one line of code)\n",
    "- Find row sums when you exclude the max in each row"
   ]
  },
  {
   "cell_type": "code",
   "execution_count": 32,
   "metadata": {},
   "outputs": [
    {
     "data": {
      "text/plain": [
       "array([[0.17266798, 0.24908654, 0.95627621, 0.57389339, 0.01552825],\n",
       "       [0.16584842, 0.64358539, 0.93492999, 0.50806843, 0.4290492 ],\n",
       "       [0.62659057, 0.93793245, 0.66997881, 0.36696788, 0.91261181],\n",
       "       [0.91170203, 0.623645  , 0.29211021, 0.70746279, 0.63751389]])"
      ]
     },
     "execution_count": 32,
     "metadata": {},
     "output_type": "execute_result"
    }
   ],
   "source": [
    "random = np.random.random(20).reshape(4,5)\n",
    "random"
   ]
  },
  {
   "cell_type": "code",
   "execution_count": 34,
   "metadata": {},
   "outputs": [
    {
     "data": {
      "text/plain": [
       "array([1.96745239, 2.68148143, 3.51408152, 3.17243393])"
      ]
     },
     "execution_count": 34,
     "metadata": {},
     "output_type": "execute_result"
    }
   ],
   "source": [
    "row_sum = np.sum(random, axis=1)\n",
    "row_sum"
   ]
  },
  {
   "cell_type": "code",
   "execution_count": 39,
   "metadata": {},
   "outputs": [
    {
     "data": {
      "text/plain": [
       "array([[0.16703702, 0.24826872, 1.        , 0.59353319, 0.        ],\n",
       "       [0.        , 0.62117855, 1.        , 0.44497232, 0.34222739],\n",
       "       [0.45470893, 1.        , 0.53070006, 0.        , 0.95565286],\n",
       "       [1.        , 0.5350858 , 0.        , 0.67036485, 0.55746971]])"
      ]
     },
     "execution_count": 39,
     "metadata": {},
     "output_type": "execute_result"
    }
   ],
   "source": [
    "scaled = (random - random.min(axis=1).reshape(-1, 1)) / (random.max(axis=1).reshape(-1, 1) - random.min(axis=1).reshape(-1, 1))\n",
    "scaled"
   ]
  },
  {
   "cell_type": "code",
   "execution_count": 41,
   "metadata": {},
   "outputs": [
    {
     "data": {
      "text/plain": [
       "array([1.01117617, 1.74655144, 2.57614907, 2.26073189])"
      ]
     },
     "execution_count": 41,
     "metadata": {},
     "output_type": "execute_result"
    }
   ],
   "source": [
    "max = np.max(random, axis=1).reshape(-1, 1)\n",
    "mask = random != max\n",
    "filtered_sum = np.where(mask , random , 0)\n",
    "np.sum(filtered_sum , axis = 1)"
   ]
  },
  {
   "cell_type": "markdown",
   "metadata": {},
   "source": [
    "**4**. (2 points) Create two NumPy arrays: a 2D array `matrix = np.arange(1, 13).reshape(3, 4)` and a 1D array `vector = np.array([1, 2, 3, 4])`. Perform the following operations using broadcasting:\n",
    "\n",
    "- Add the vector to each row of the matrix.\n",
    "- Subtract the vector from each column of the matrix.\n",
    "- Multiply each element of the matrix by the vector element-wise.\n",
    "- Return the results of each operation."
   ]
  },
  {
   "cell_type": "code",
   "execution_count": 42,
   "metadata": {},
   "outputs": [
    {
     "data": {
      "text/plain": [
       "(array([[ 1,  2,  3,  4],\n",
       "        [ 5,  6,  7,  8],\n",
       "        [ 9, 10, 11, 12]]),\n",
       " array([1, 2, 3, 4]))"
      ]
     },
     "execution_count": 42,
     "metadata": {},
     "output_type": "execute_result"
    }
   ],
   "source": [
    "matrix = np.arange(1, 13).reshape(3, 4)\n",
    "vector = np.array([1, 2, 3, 4])\n",
    "matrix , vector"
   ]
  },
  {
   "cell_type": "code",
   "execution_count": 46,
   "metadata": {},
   "outputs": [
    {
     "data": {
      "text/plain": [
       "array([[ 2,  4,  6,  8],\n",
       "       [ 6,  8, 10, 12],\n",
       "       [10, 12, 14, 16]])"
      ]
     },
     "execution_count": 46,
     "metadata": {},
     "output_type": "execute_result"
    }
   ],
   "source": [
    "added = matrix + vector\n",
    "added"
   ]
  },
  {
   "cell_type": "code",
   "execution_count": 49,
   "metadata": {},
   "outputs": [
    {
     "data": {
      "text/plain": [
       "array([[0, 0, 0, 0],\n",
       "       [4, 4, 4, 4],\n",
       "       [8, 8, 8, 8]])"
      ]
     },
     "execution_count": 49,
     "metadata": {},
     "output_type": "execute_result"
    }
   ],
   "source": [
    "subtracted = matrix - vector\n",
    "subtracted"
   ]
  },
  {
   "cell_type": "code",
   "execution_count": 50,
   "metadata": {},
   "outputs": [
    {
     "data": {
      "text/plain": [
       "array([[ 1,  4,  9, 16],\n",
       "       [ 5, 12, 21, 32],\n",
       "       [ 9, 20, 33, 48]])"
      ]
     },
     "execution_count": 50,
     "metadata": {},
     "output_type": "execute_result"
    }
   ],
   "source": [
    "multiplied = matrix * vector\n",
    "multiplied"
   ]
  },
  {
   "cell_type": "code",
   "execution_count": 51,
   "metadata": {},
   "outputs": [
    {
     "data": {
      "text/plain": [
       "(array([[ 2,  4,  6,  8],\n",
       "        [ 6,  8, 10, 12],\n",
       "        [10, 12, 14, 16]]),\n",
       " array([[0, 0, 0, 0],\n",
       "        [4, 4, 4, 4],\n",
       "        [8, 8, 8, 8]]),\n",
       " array([[ 1,  4,  9, 16],\n",
       "        [ 5, 12, 21, 32],\n",
       "        [ 9, 20, 33, 48]]))"
      ]
     },
     "execution_count": 51,
     "metadata": {},
     "output_type": "execute_result"
    }
   ],
   "source": [
    "results = added , subtracted , multiplied\n",
    "results"
   ]
  },
  {
   "cell_type": "markdown",
   "metadata": {},
   "source": [
    "**5**. (0.5 points). You have two datasets `x = np.array([1, 2, 3, 4, 5])` and `y = np.array([2, 4, 6, 8, 10])`. Compute the Pearson correlation coefficient between `x` and `y`.\n",
    "\n",
    "Hint: use `np.corrcoef()`"
   ]
  },
  {
   "cell_type": "code",
   "execution_count": 53,
   "metadata": {},
   "outputs": [
    {
     "data": {
      "text/plain": [
       "array([[1., 1.],\n",
       "       [1., 1.]])"
      ]
     },
     "execution_count": 53,
     "metadata": {},
     "output_type": "execute_result"
    }
   ],
   "source": [
    "x = np.array([1, 2, 3, 4, 5])\n",
    "y = np.array([2, 4, 6, 8, 10])\n",
    "\n",
    "np.corrcoef(x , y)"
   ]
  },
  {
   "cell_type": "markdown",
   "metadata": {},
   "source": [
    "**6** (2 point). You are working with a dataset of daily sales figures for a retail store over a year. The dataset is represented as a 1D NumPy array `sales_data = [200, 220, 250, 275, 300, 320, 310, 290, 270, 260]`, where each element corresponds to the sales for one day. \n",
    "\n",
    "- Compute the cumulative sum of the sales data and print the total sales accumulated up to each day.\n",
    "\n",
    "- Determine the 25th, 50th, and 75th percentiles (quartiles) of the daily sales data.\n"
   ]
  },
  {
   "cell_type": "code",
   "execution_count": 55,
   "metadata": {},
   "outputs": [],
   "source": [
    "sales_data = [200, 220, 250, 275, 300, 320, 310, 290, 270, 260]"
   ]
  },
  {
   "cell_type": "code",
   "execution_count": 59,
   "metadata": {},
   "outputs": [
    {
     "data": {
      "text/plain": [
       "array([ 200,  420,  670,  945, 1245, 1565, 1875, 2165, 2435, 2695])"
      ]
     },
     "execution_count": 59,
     "metadata": {},
     "output_type": "execute_result"
    }
   ],
   "source": [
    "cumulative = np.cumsum(sales_data)\n",
    "cumulative"
   ]
  },
  {
   "cell_type": "code",
   "execution_count": 60,
   "metadata": {},
   "outputs": [
    {
     "data": {
      "text/plain": [
       "array([252.5, 272.5, 297.5])"
      ]
     },
     "execution_count": 60,
     "metadata": {},
     "output_type": "execute_result"
    }
   ],
   "source": [
    "percentile = np.percentile(sales_data , [25,50,75])\n",
    "percentile"
   ]
  },
  {
   "cell_type": "code",
   "execution_count": null,
   "metadata": {},
   "outputs": [],
   "source": []
  }
 ],
 "metadata": {
  "kernelspec": {
   "display_name": "Python 3 (ipykernel)",
   "language": "python",
   "name": "python3"
  },
  "language_info": {
   "codemirror_mode": {
    "name": "ipython",
    "version": 3
   },
   "file_extension": ".py",
   "mimetype": "text/x-python",
   "name": "python",
   "nbconvert_exporter": "python",
   "pygments_lexer": "ipython3",
   "version": "3.11.7"
  }
 },
 "nbformat": 4,
 "nbformat_minor": 4
}
